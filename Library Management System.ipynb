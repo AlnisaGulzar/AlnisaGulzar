{
 "cells": [
  {
   "cell_type": "code",
   "execution_count": 1,
   "id": "88f99f6e",
   "metadata": {},
   "outputs": [],
   "source": [
    "from tkinter import *\n",
    "from sqlite3 import *\n",
    "import tkinter.ttk as ttk\n",
    "import tkinter.messagebox as tkMassgeBox"
   ]
  },
  {
   "cell_type": "code",
   "execution_count": 2,
   "id": "1a41598d",
   "metadata": {},
   "outputs": [],
   "source": [
    "def Database():\n",
    "    global conn,cursor\n",
    "    conn=connect(\"Library.db\")\n",
    "    cursor=conn.cursor()\n",
    "    cursor.execute(\"CREATE TABLE IF NOT EXISTS lbms(author_name TEXT,book_title TEXT,year INTEGER,ISBN INTEGER)\")"
   ]
  },
  {
   "cell_type": "code",
   "execution_count": 3,
   "id": "db76057f",
   "metadata": {},
   "outputs": [],
   "source": [
    "def display_all_records():\n",
    "    present.delete(*present.get_children())\n",
    "    Database()\n",
    "    cursor.execute(\"SELECT * FROM lbms ORDER by book_title ASC\")\n",
    "    fetch=cursor.fetchall()\n",
    "    for data in fetch:\n",
    "        present.insert('','end',values=(data[0],data[1],data[2],data[3]))\n",
    "    conn.close()\n",
    "    Ll1.config(text=\"Please see the books!\",fg=\"green\")"
   ]
  },
  {
   "cell_type": "code",
   "execution_count": 4,
   "id": "d883097b",
   "metadata": {},
   "outputs": [],
   "source": [
    "def add_new_book():\n",
    "    Database()\n",
    "    if author_name.get(1.0,\"end-1c\")!=\"\" and book_title.get(1.0,\"end-1c\")!=\"\" and year.get(1.0,\"end-1c\")!=\"\" and ISBN.get(1.0,\"end-1c\")!=\"\":\n",
    "        cursor.execute(\"INSERT INTO lbms VALUES(?,?,?,?)\",(author_name.get(1.0,\"end-1c\"),book_title.get(1.0,\"end-1c\"),int(year.get(1.0,\"end-1c\")),int(ISBN.get(1.0,\"end-1c\"))))\n",
    "        conn.commit()\n",
    "        delete()\n",
    "        conn.close()\n",
    "        Ll1.config(text=\"Book is added successfully!\",fg=\"green\")\n",
    "    else:\n",
    "        Ll1.config(text=\"Please enter all the values to add the book!\",fg=\"red\")\n",
    "        delete()"
   ]
  },
  {
   "cell_type": "code",
   "execution_count": 5,
   "id": "8cd4a720",
   "metadata": {},
   "outputs": [],
   "source": [
    "def Search_book():\n",
    "    present.delete(*present.get_children())\n",
    "    Database()\n",
    "    if str(author_name.get(1.0,\"end-1c\"))!=\"\":\n",
    "        name=\"'\"+str(author_name.get(1.0,\"end-1c\")).title()+\"'\"\n",
    "        temp=\"SELECT * FROM lbms WHERE author_name = \"+name\n",
    "        cursor.execute(temp)\n",
    "        fetch=cursor.fetchall()\n",
    "        for data in fetch:\n",
    "            present.insert('','end',values=(data[0],data[1],data[2],data[3]))\n",
    "        Ll1.config(text=\"Please see the books!\",fg=\"green\")\n",
    "    elif str(book_title.get(1.0,\"end-1c\"))!=\"\":\n",
    "        name=\"'\"+str(book_title.get(1.0,\"end-1c\")).title()+\"'\"\n",
    "        temp=\"SELECT * FROM lbms WHERE book_title = \"+name\n",
    "        cursor.execute(temp)\n",
    "        fetch=cursor.fetchall()\n",
    "        for data in fetch:\n",
    "            present.insert('','end',values=(data[0],data[1],data[2],data[3]))\n",
    "        Ll1.config(text=\"Please see the books!\",fg=\"green\")\n",
    "    elif str(year.get(1.0,\"end-1c\"))!=\"\":\n",
    "        temp=\"SELECT * FROM lbms WHERE year = \"+str(year.get(1.0,\"end-1c\"))\n",
    "        cursor.execute(temp)\n",
    "        fetch=cursor.fetchall()\n",
    "        for data in fetch:\n",
    "            present.insert('','end',values=(data[0],data[1],data[2],data[3]))\n",
    "        Ll1.config(text=\"Please see the books!\",fg=\"green\")\n",
    "    elif str(ISBN.get(1.0,\"end-1c\"))!=\"\":\n",
    "        temp=\"SELECT * FROM lbms WHERE ISBN = \"+str(ISBN.get(1.0,\"end-1c\"))\n",
    "        cursor.execute(temp)\n",
    "        fetch=cursor.fetchall()\n",
    "        for data in fetch:\n",
    "            present.insert('','end',values=(data[0],data[1],data[2],data[3]))\n",
    "        Ll1.config(text=\"Please see the books!\",fg=\"green\")\n",
    "    else:\n",
    "        Ll1.config(text=\"Please enter at least single identity!\",fg=\"red\")\n",
    "    delete()\n",
    "    conn.close()"
   ]
  },
  {
   "cell_type": "code",
   "execution_count": 6,
   "id": "b1e9aa83",
   "metadata": {},
   "outputs": [],
   "source": [
    "def issue_the_book():\n",
    "    Database()\n",
    "    selected_item=present.selection()\n",
    "    if len(selected_item)>0:\n",
    "        present.delete(selected_item)\n",
    "        Ll1.config(text=\"Selected book is issued!\",fg=\"green\")\n",
    "    else:\n",
    "        Ll1.config(text=\"Please select a book from library to issue!\",fg=\"red\")\n",
    "    delete()\n",
    "    conn.close()"
   ]
  },
  {
   "cell_type": "code",
   "execution_count": 7,
   "id": "84fb59ca",
   "metadata": {},
   "outputs": [],
   "source": [
    "def delete_book():\n",
    "    Database()\n",
    "    if author_name.get(1.0,\"end-1c\")==\"\" or book_title.get(1.0,\"end-1c\")==\"\" or year.get(1.0,\"end-1c\")==\"\" or ISBN.get(1.0,\"end-1c\")==\"\":\n",
    "        Ll1.config(text=\"Please enter all Entries!\",fg=\"red\")\n",
    "        delete()\n",
    "    else:\n",
    "        author='\"'+str(author_name.get(1.0,\"end-1c\"))+'\"'\n",
    "        book='\"'+str(book_title.get(1.0,\"end-1c\"))+'\"'\n",
    "        y=str(year.get(1.0,\"end-1c\"))\n",
    "        I=str(ISBN.get(1.0,\"end-1c\"))\n",
    "        temp=\"DELETE FROM lbms WHERE author_name LIKE \"+author+\" and book_title LIKE \"+book+\" and year = \"+y+\" and ISBN = \"+I\n",
    "        cursor.execute(temp)\n",
    "        conn.commit()\n",
    "        Ll1.config(text=\"Book deleted successfully!\",fg='green')\n",
    "        delete()\n",
    "    conn.close()"
   ]
  },
  {
   "cell_type": "code",
   "execution_count": 8,
   "id": "305b4a9a",
   "metadata": {},
   "outputs": [],
   "source": [
    "def delete():\n",
    "    author_name.delete(\"1.0\",\"end\")\n",
    "    book_title.delete(\"1.0\",\"end\")\n",
    "    year.delete(\"1.0\",\"end\")\n",
    "    ISBN.delete(\"1.0\",\"end\")"
   ]
  },
  {
   "cell_type": "code",
   "execution_count": 9,
   "id": "79f38383",
   "metadata": {},
   "outputs": [],
   "source": [
    "def Exit():\n",
    "    result=tkMassgeBox.askquestion(\"Do you want to exit? (y/n)\",icon=\"warning\")\n",
    "    if result==\"yes\":\n",
    "        root.destroy()\n",
    "        exit()"
   ]
  },
  {
   "cell_type": "code",
   "execution_count": 10,
   "id": "b1587042",
   "metadata": {},
   "outputs": [],
   "source": [
    "root=Tk()   \n",
    "root.geometry(\"900x400\")\n",
    "Top=Frame(root,width=900,height=50,bd=8,relief='raise')\n",
    "Top.pack(side=TOP)\n",
    "Left=Frame(root,width=300,height=500,bd=8,relief='raise')\n",
    "Left.pack(side=LEFT)\n",
    "Right=Frame(root,width=600,height=500,bd=8,relief='raise')\n",
    "Right.pack(side=RIGHT)\n",
    "\n",
    "inner_upper=Frame(Left,width=300,height=250,bd=8,relief=\"raise\")\n",
    "inner_upper.pack(side=TOP)\n",
    "\n"
   ]
  },
  {
   "cell_type": "code",
   "execution_count": 11,
   "id": "fc22b5de",
   "metadata": {},
   "outputs": [],
   "source": [
    "L1=Label(Top,text=\" Library Book Management System \",font=(\"arial\",20))\n",
    "L1.pack()\n",
    "\n",
    "L2=Label(inner_upper,text=\"Author Name:\",font=(\"arial\",14))\n",
    "L3=Label(inner_upper,text=\"Book Name:\",font=(\"arial\",14))\n",
    "L4=Label(inner_upper,text=\"Published year:\",font=('arial',14))\n",
    "L5=Label(inner_upper,text=\"ISBN:\",font=('arial',14))"
   ]
  },
  {
   "cell_type": "code",
   "execution_count": 12,
   "id": "38c8a6e9",
   "metadata": {},
   "outputs": [],
   "source": [
    "author_name=Text(inner_upper,height=2,width=40)\n",
    "book_title=Text(inner_upper,height=2,width=40)\n",
    "year=Text(inner_upper,height=2,width=40)\n",
    "ISBN=Text(inner_upper,height=2,width=40)"
   ]
  },
  {
   "cell_type": "code",
   "execution_count": 13,
   "id": "c2c27e5c",
   "metadata": {},
   "outputs": [],
   "source": [
    "L2.grid(row=0,column=0)\n",
    "author_name.grid(row=0,column=1)\n",
    "L3.grid(row=1,column=0)\n",
    "book_title.grid(row=1,column=1)\n",
    "L4.grid(row=2,column=0)\n",
    "year.grid(row=2,column=1)\n",
    "L5.grid(row=3,column=0)\n",
    "ISBN.grid(row=3,column=1)\n",
    "\n",
    "Ll1=Label(Right)\n",
    "Ll1.pack(side=BOTTOM)"
   ]
  },
  {
   "cell_type": "code",
   "execution_count": 14,
   "id": "df6057d5",
   "metadata": {},
   "outputs": [],
   "source": [
    "inner_frame=Frame(Left,width=250,height=50,bd=8,relief='raise')\n",
    "inner_frame.pack(side=BOTTOM)"
   ]
  },
  {
   "cell_type": "code",
   "execution_count": 15,
   "id": "ff060527",
   "metadata": {},
   "outputs": [],
   "source": [
    "Bb1=Button(inner_frame,text=\"View Library\",command=display_all_records)\n",
    "Bb1.grid(row=0,column=0)"
   ]
  },
  {
   "cell_type": "code",
   "execution_count": 16,
   "id": "71cbc454",
   "metadata": {},
   "outputs": [],
   "source": [
    "Bb2=Button(inner_frame,text=\"Search\",command=Search_book)\n",
    "Bb2.grid(row=0,column=1)\n"
   ]
  },
  {
   "cell_type": "code",
   "execution_count": 17,
   "id": "b3a32f64",
   "metadata": {},
   "outputs": [],
   "source": [
    "Bb3=Button(inner_frame,text=\"Add New Book\",command=add_new_book)\n",
    "Bb3.grid(row=0,column=2)"
   ]
  },
  {
   "cell_type": "code",
   "execution_count": 18,
   "id": "7cc38146",
   "metadata": {},
   "outputs": [],
   "source": [
    "Bb4=Button(inner_frame,text=\"Issue the Book\",command=issue_the_book)\n",
    "Bb4.grid(row=0,column=3)"
   ]
  },
  {
   "cell_type": "code",
   "execution_count": 19,
   "id": "e0462d5e",
   "metadata": {},
   "outputs": [],
   "source": [
    "Bb5=Button(inner_frame,text=\"Delete the Book\",command=delete_book)\n",
    "Bb5.grid(row=0,column=4)"
   ]
  },
  {
   "cell_type": "code",
   "execution_count": 20,
   "id": "34fe19ba",
   "metadata": {},
   "outputs": [],
   "source": [
    "Bb6=Button(inner_frame,text=\"Exit\",command=Exit)\n",
    "Bb6.grid(row=0,column=5)"
   ]
  },
  {
   "cell_type": "code",
   "execution_count": 21,
   "id": "59776009",
   "metadata": {},
   "outputs": [],
   "source": [
    "scrollbary=Scrollbar(Right,orient=VERTICAL)\n",
    "scrollbarx=Scrollbar(Right,orient=HORIZONTAL)"
   ]
  },
  {
   "cell_type": "code",
   "execution_count": 22,
   "id": "3dfbeb6b",
   "metadata": {},
   "outputs": [],
   "source": [
    "present = ttk.Treeview(Right)"
   ]
  },
  {
   "cell_type": "code",
   "execution_count": 23,
   "id": "f45d936a",
   "metadata": {},
   "outputs": [],
   "source": [
    "scrollbary.config(command=present.yview)\n",
    "scrollbary.pack(side=RIGHT,fill=Y)\n",
    "scrollbarx.config(command=present.xview)\n",
    "scrollbarx.pack(side=BOTTOM,fill=X)"
   ]
  },
  {
   "cell_type": "code",
   "execution_count": 24,
   "id": "4f3c5011",
   "metadata": {},
   "outputs": [
    {
     "data": {
      "text/plain": [
       "{}"
      ]
     },
     "execution_count": 24,
     "metadata": {},
     "output_type": "execute_result"
    }
   ],
   "source": [
    "present['columns']=(\"Author Name\",\"Book Name\",\"Published year\",\"ISBN no\")\n",
    "present.column('#0', width=0, stretch=NO)\n",
    "present.column('Author Name', anchor=CENTER, width=100)\n",
    "present.column('Book Name', anchor=CENTER, width=100)\n",
    "present.column('Published year', anchor=CENTER, width=100)\n",
    "present.column('ISBN no', anchor=CENTER, width=100)"
   ]
  },
  {
   "cell_type": "code",
   "execution_count": null,
   "id": "234174a5",
   "metadata": {},
   "outputs": [],
   "source": [
    "present.heading('#0', text='', anchor=CENTER)\n",
    "present.heading('Author Name', text='Author Name', anchor=CENTER)\n",
    "present.heading('Book Name', text='Book Name', anchor=CENTER)\n",
    "present.heading('Published year', text='Published year', anchor=CENTER)\n",
    "present.heading('ISBN no', text='ISBN no', anchor=CENTER)\n",
    "\n",
    "present.pack()\n",
    "root.mainloop()"
   ]
  },
  {
   "cell_type": "code",
   "execution_count": null,
   "id": "19d0d557",
   "metadata": {},
   "outputs": [],
   "source": []
  },
  {
   "cell_type": "code",
   "execution_count": null,
   "id": "935c932c",
   "metadata": {},
   "outputs": [],
   "source": []
  }
 ],
 "metadata": {
  "kernelspec": {
   "display_name": "Python 3 (ipykernel)",
   "language": "python",
   "name": "python3"
  },
  "language_info": {
   "codemirror_mode": {
    "name": "ipython",
    "version": 3
   },
   "file_extension": ".py",
   "mimetype": "text/x-python",
   "name": "python",
   "nbconvert_exporter": "python",
   "pygments_lexer": "ipython3",
   "version": "3.9.7"
  }
 },
 "nbformat": 4,
 "nbformat_minor": 5
}
